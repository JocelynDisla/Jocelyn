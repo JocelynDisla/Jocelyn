{
 "cells": [
  {
   "cell_type": "markdown",
   "id": "99f8dd87-c86f-4e3a-9803-778938c0feb3",
   "metadata": {},
   "source": [
    "## Project Milestone 5 "
   ]
  },
  {
   "cell_type": "code",
   "execution_count": 2,
   "id": "97130b14-54c6-4f12-824f-b8d3790152bf",
   "metadata": {},
   "outputs": [],
   "source": [
    "import import_ipynb"
   ]
  },
  {
   "cell_type": "markdown",
   "id": "e0855bcc-010b-43b1-b77f-bbc15fe7ff68",
   "metadata": {},
   "source": [
    "#### load CSV data set in to SQL Lite"
   ]
  },
  {
   "cell_type": "code",
   "execution_count": 34,
   "id": "84493073-6f23-47cf-98d3-19567e363c84",
   "metadata": {},
   "outputs": [
    {
     "name": "stdout",
     "output_type": "stream",
     "text": [
      "     Asian Indian Pakistani_Bangladeshi other_Asian Black Mixed White  \\\n",
      "2017  17.1   12.8                  24.1        15.2  12.3  13.7  15.1   \n",
      "2018  15.8   13.2                  20.4        13.9  11.2  11.4  15.1   \n",
      "2019  17.5   14.7                  23.2        14.6  11.2  14.0  15.2   \n",
      "2020  14.7   12.1                  19.3        14.1  10.9  13.2  14.1   \n",
      "2021  13.3   11.4                  16.2        13.2   9.8  12.3  13.4   \n",
      "\n",
      "     British_White Other_White Other  Year  \n",
      "2017          14.8        17.6  17.2  2017  \n",
      "2018          14.9        17.2  19.0  2018  \n",
      "2019          14.9        17.5  20.1  2019  \n",
      "2020          14.0        15.9  12.6  2020  \n",
      "2021          13.2        16.1  15.6  2021  \n"
     ]
    }
   ],
   "source": [
    "%store -r Freelancer_Ethnicity\n",
    "print(Freelancer_Ethnicity.head())"
   ]
  },
  {
   "cell_type": "code",
   "execution_count": 35,
   "id": "6cfec5d2-9ceb-4a45-93d4-e14288e93d14",
   "metadata": {},
   "outputs": [],
   "source": [
    "import pandas as pd\n",
    "import sqlite3\n",
    "table_name = 'Freelancer_Ethnicity'\n",
    "\n",
    "conn = sqlite3.connect('Freelancer.db')\n",
    "query = f'Create table if not Exists {table_name} (Asian real, Indian real, Pakistani_Bangladeshi real, other_Asian real, Black real, Mixed real, White real, British_White real, Other_White real, Other real, Year real)'\n",
    "conn.execute(query)\n",
    "Freelancer_Ethnicity.to_sql(table_name,conn,if_exists='replace',index=False)\n",
    "conn.commit()\n"
   ]
  },
  {
   "cell_type": "markdown",
   "id": "bcd52d3f-d34d-4e86-b860-1712b4f9149c",
   "metadata": {},
   "source": [
    "#### load Website data set in to SQL Lite"
   ]
  },
  {
   "cell_type": "code",
   "execution_count": 9,
   "id": "d5244253-4bae-4984-9d04-508445f82866",
   "metadata": {},
   "outputs": [
    {
     "name": "stdout",
     "output_type": "stream",
     "text": [
      "   Year Freelancers_in_millions Predicted Collected  Growth\n",
      "1  2017                    57.3         0         1    1.04\n",
      "2  2018                    59.7         0         1    1.04\n",
      "3  2019                    62.2         0         1    1.04\n",
      "4  2020                    64.8         0         1    1.04\n",
      "5  2021                    67.4         0         1    1.04\n"
     ]
    }
   ],
   "source": [
    "%store -r US_Freelancers\n",
    "print(US_Freelancers.head())"
   ]
  },
  {
   "cell_type": "code",
   "execution_count": 10,
   "id": "c2317655-3f34-41cf-99f3-c41eede1d2a3",
   "metadata": {},
   "outputs": [],
   "source": [
    "table_pop = 'Freelancer_Population'\n",
    "conn = sqlite3.connect('Freelancer.db')\n",
    "query = f'Create table if not Exists {table_pop} (Year real, Freelancers_in_millions real, Predicted real, Collected real, Growth real)'\n",
    "conn.execute(query)\n",
    "US_Freelancers.to_sql(table_pop,conn,if_exists='replace',index=False)\n",
    "conn.commit()\n",
    "conn.close()"
   ]
  },
  {
   "cell_type": "markdown",
   "id": "72c64406-bc92-4487-892a-c1024ec3142f",
   "metadata": {},
   "source": [
    "#### load API data set in to SQL Lite"
   ]
  },
  {
   "cell_type": "code",
   "execution_count": null,
   "id": "1dfcae6d-e96d-4775-b130-c7bee0cd8f74",
   "metadata": {},
   "outputs": [
    {
     "name": "stdout",
     "output_type": "stream",
     "text": [
      "   Year  Listings   accuracy\n",
      "0  2017    2174.0  Estimated\n",
      "1  2018    2261.0  Estimated\n",
      "2  2019    2351.0  Estimated\n",
      "3  2020    2445.0  Estimated\n",
      "4  2021    2543.0  Estimated\n"
     ]
    }
   ],
   "source": [
    "# Simplified API data results with estimated listings calculated from CSV File freelancer Population growth \n",
    "%store -r df\n",
    "print(df.head())"
   ]
  },
  {
   "cell_type": "code",
   "execution_count": 42,
   "id": "66ca4b01-ee51-4ac5-af04-c36bec91b610",
   "metadata": {},
   "outputs": [],
   "source": [
    "# removing unnecessary columns that are repeated or lack values\n",
    "df_api = df_api.drop(columns=['seo_info', 'active_project_count', 'category', 'name', 'seo_url'])"
   ]
  },
  {
   "cell_type": "code",
   "execution_count": null,
   "id": "c532f8fc",
   "metadata": {},
   "outputs": [
    {
     "name": "stdout",
     "output_type": "stream",
     "text": [
      "   Year  Listings   accuracy\n",
      "0  2017    2174.0  Estimated\n",
      "1  2018    2261.0  Estimated\n",
      "2  2019    2351.0  Estimated\n",
      "3  2020    2445.0  Estimated\n",
      "4  2021    2543.0  Estimated\n"
     ]
    }
   ],
   "source": [
    "# Simplified API data results with estimated listings calculated from CSV File freelancer Population growth \n",
    "%store -r df\n",
    "print(df.head())"
   ]
  },
  {
   "cell_type": "code",
   "execution_count": 13,
   "id": "bb988c48-3609-41fb-83c4-ad3d37597cfd",
   "metadata": {},
   "outputs": [],
   "source": [
    "\n",
    "table_post = 'Freelancer_Postings'\n",
    "conn = sqlite3.connect('Freelancer.db')\n",
    "query = f'Create table if not Exists {table_post} (Year real, Listings real,  accuracy text)'\n",
    "conn.execute(query)\n",
    "df.to_sql(table_post,conn,if_exists='replace',index=False)\n",
    "conn.commit()\n",
    "conn.close()"
   ]
  },
  {
   "cell_type": "markdown",
   "id": "d5697a0c-ffa7-4650-acd4-d0b0be01829f",
   "metadata": {},
   "source": [
    "#### load data sets from SQLite and joining them into one "
   ]
  },
  {
   "cell_type": "code",
   "execution_count": 36,
   "id": "953de504-acf8-4e18-a68e-9bc6834a9789",
   "metadata": {},
   "outputs": [
    {
     "name": "stdout",
     "output_type": "stream",
     "text": [
      "[('Freelancer_Questionaire',), ('Freelancer_Population',), ('Freelancer_Postings',), ('Freelancer_Ethnicity',)]\n"
     ]
    }
   ],
   "source": [
    "conn = sqlite3.connect('Freelancer.db')\n",
    "def sql_fetch(conn):\n",
    "    c = conn.cursor()\n",
    "    c.execute('SELECT name from sqlite_master where type= \"table\" ')\n",
    "    print(c.fetchall())\n",
    "    \n",
    "sql_fetch(conn)"
   ]
  },
  {
   "cell_type": "code",
   "execution_count": 41,
   "id": "7e2cede3-0d32-48e5-a136-fb7248f97f52",
   "metadata": {},
   "outputs": [
    {
     "data": {
      "text/plain": [
       "['Asian',\n",
       " 'Indian',\n",
       " 'Pakistani_Bangladeshi',\n",
       " 'other_Asian',\n",
       " 'Black',\n",
       " 'Mixed',\n",
       " 'White',\n",
       " 'British_White',\n",
       " 'Other_White',\n",
       " 'Other',\n",
       " 'Year']"
      ]
     },
     "execution_count": 41,
     "metadata": {},
     "output_type": "execute_result"
    }
   ],
   "source": [
    "def get_col_names(conn):\n",
    "    c = conn.cursor()\n",
    "    c.execute(\"select * from Freelancer_Ethnicity\")\n",
    "    return [member [0] for member in c.description]\n",
    "get_col_names(conn)"
   ]
  },
  {
   "cell_type": "code",
   "execution_count": 88,
   "id": "3476dddb",
   "metadata": {},
   "outputs": [],
   "source": [
    "# Joining Dataframes by their year feature\n",
    "c = conn.cursor()\n",
    "pop_ethnic = c.execute('''SELECT * From Freelancer_Population \n",
    "                       INNER JOIN Freelancer_Postings \n",
    "                       ON Freelancer_Population.Year = Freelancer_Postings.Year \n",
    "                       INNER JOIN Freelancer_Ethnicity \n",
    "                       ON Freelancer_Postings.Year = Freelancer_Ethnicity.Year''')\n",
    "pop_ethnic = c.fetchall()\n",
    "\n",
    "keys = [member [0] for member in c.description]\n",
    "joined_df = DataFrame(pop_ethnic)\n",
    "joined_df.columns = keys"
   ]
  },
  {
   "cell_type": "code",
   "execution_count": 89,
   "id": "4a948902-6fb0-4684-b40f-8f8d853b28a0",
   "metadata": {},
   "outputs": [
    {
     "data": {
      "text/html": [
       "<div>\n",
       "<style scoped>\n",
       "    .dataframe tbody tr th:only-of-type {\n",
       "        vertical-align: middle;\n",
       "    }\n",
       "\n",
       "    .dataframe tbody tr th {\n",
       "        vertical-align: top;\n",
       "    }\n",
       "\n",
       "    .dataframe thead th {\n",
       "        text-align: right;\n",
       "    }\n",
       "</style>\n",
       "<table border=\"1\" class=\"dataframe\">\n",
       "  <thead>\n",
       "    <tr style=\"text-align: right;\">\n",
       "      <th></th>\n",
       "      <th>Year</th>\n",
       "      <th>Freelancers_in_millions</th>\n",
       "      <th>Predicted</th>\n",
       "      <th>Collected</th>\n",
       "      <th>Growth</th>\n",
       "      <th>Year</th>\n",
       "      <th>Listings</th>\n",
       "      <th>accuracy</th>\n",
       "      <th>Asian</th>\n",
       "      <th>Indian</th>\n",
       "      <th>Pakistani_Bangladeshi</th>\n",
       "      <th>other_Asian</th>\n",
       "      <th>Black</th>\n",
       "      <th>Mixed</th>\n",
       "      <th>White</th>\n",
       "      <th>British_White</th>\n",
       "      <th>Other_White</th>\n",
       "      <th>Other</th>\n",
       "      <th>Year</th>\n",
       "    </tr>\n",
       "  </thead>\n",
       "  <tbody>\n",
       "    <tr>\n",
       "      <th>0</th>\n",
       "      <td>2017</td>\n",
       "      <td>57.3</td>\n",
       "      <td>0</td>\n",
       "      <td>1</td>\n",
       "      <td>1.04</td>\n",
       "      <td>2017</td>\n",
       "      <td>2174.0</td>\n",
       "      <td>Estimated</td>\n",
       "      <td>17.1</td>\n",
       "      <td>12.8</td>\n",
       "      <td>24.1</td>\n",
       "      <td>15.2</td>\n",
       "      <td>12.3</td>\n",
       "      <td>13.7</td>\n",
       "      <td>15.1</td>\n",
       "      <td>14.8</td>\n",
       "      <td>17.6</td>\n",
       "      <td>17.2</td>\n",
       "      <td>2017</td>\n",
       "    </tr>\n",
       "    <tr>\n",
       "      <th>1</th>\n",
       "      <td>2018</td>\n",
       "      <td>59.7</td>\n",
       "      <td>0</td>\n",
       "      <td>1</td>\n",
       "      <td>1.04</td>\n",
       "      <td>2018</td>\n",
       "      <td>2261.0</td>\n",
       "      <td>Estimated</td>\n",
       "      <td>15.8</td>\n",
       "      <td>13.2</td>\n",
       "      <td>20.4</td>\n",
       "      <td>13.9</td>\n",
       "      <td>11.2</td>\n",
       "      <td>11.4</td>\n",
       "      <td>15.1</td>\n",
       "      <td>14.9</td>\n",
       "      <td>17.2</td>\n",
       "      <td>19.0</td>\n",
       "      <td>2018</td>\n",
       "    </tr>\n",
       "    <tr>\n",
       "      <th>2</th>\n",
       "      <td>2019</td>\n",
       "      <td>62.2</td>\n",
       "      <td>0</td>\n",
       "      <td>1</td>\n",
       "      <td>1.04</td>\n",
       "      <td>2019</td>\n",
       "      <td>2351.0</td>\n",
       "      <td>Estimated</td>\n",
       "      <td>17.5</td>\n",
       "      <td>14.7</td>\n",
       "      <td>23.2</td>\n",
       "      <td>14.6</td>\n",
       "      <td>11.2</td>\n",
       "      <td>14.0</td>\n",
       "      <td>15.2</td>\n",
       "      <td>14.9</td>\n",
       "      <td>17.5</td>\n",
       "      <td>20.1</td>\n",
       "      <td>2019</td>\n",
       "    </tr>\n",
       "    <tr>\n",
       "      <th>3</th>\n",
       "      <td>2020</td>\n",
       "      <td>64.8</td>\n",
       "      <td>0</td>\n",
       "      <td>1</td>\n",
       "      <td>1.04</td>\n",
       "      <td>2020</td>\n",
       "      <td>2445.0</td>\n",
       "      <td>Estimated</td>\n",
       "      <td>14.7</td>\n",
       "      <td>12.1</td>\n",
       "      <td>19.3</td>\n",
       "      <td>14.1</td>\n",
       "      <td>10.9</td>\n",
       "      <td>13.2</td>\n",
       "      <td>14.1</td>\n",
       "      <td>14.0</td>\n",
       "      <td>15.9</td>\n",
       "      <td>12.6</td>\n",
       "      <td>2020</td>\n",
       "    </tr>\n",
       "    <tr>\n",
       "      <th>4</th>\n",
       "      <td>2021</td>\n",
       "      <td>67.4</td>\n",
       "      <td>0</td>\n",
       "      <td>1</td>\n",
       "      <td>1.04</td>\n",
       "      <td>2021</td>\n",
       "      <td>2543.0</td>\n",
       "      <td>Estimated</td>\n",
       "      <td>13.3</td>\n",
       "      <td>11.4</td>\n",
       "      <td>16.2</td>\n",
       "      <td>13.2</td>\n",
       "      <td>9.8</td>\n",
       "      <td>12.3</td>\n",
       "      <td>13.4</td>\n",
       "      <td>13.2</td>\n",
       "      <td>16.1</td>\n",
       "      <td>15.6</td>\n",
       "      <td>2021</td>\n",
       "    </tr>\n",
       "  </tbody>\n",
       "</table>\n",
       "</div>"
      ],
      "text/plain": [
       "   Year Freelancers_in_millions Predicted Collected  Growth  Year  Listings  \\\n",
       "0  2017                    57.3         0         1    1.04  2017    2174.0   \n",
       "1  2018                    59.7         0         1    1.04  2018    2261.0   \n",
       "2  2019                    62.2         0         1    1.04  2019    2351.0   \n",
       "3  2020                    64.8         0         1    1.04  2020    2445.0   \n",
       "4  2021                    67.4         0         1    1.04  2021    2543.0   \n",
       "\n",
       "    accuracy Asian Indian Pakistani_Bangladeshi other_Asian Black Mixed White  \\\n",
       "0  Estimated  17.1   12.8                  24.1        15.2  12.3  13.7  15.1   \n",
       "1  Estimated  15.8   13.2                  20.4        13.9  11.2  11.4  15.1   \n",
       "2  Estimated  17.5   14.7                  23.2        14.6  11.2  14.0  15.2   \n",
       "3  Estimated  14.7   12.1                  19.3        14.1  10.9  13.2  14.1   \n",
       "4  Estimated  13.3   11.4                  16.2        13.2   9.8  12.3  13.4   \n",
       "\n",
       "  British_White Other_White Other  Year  \n",
       "0          14.8        17.6  17.2  2017  \n",
       "1          14.9        17.2  19.0  2018  \n",
       "2          14.9        17.5  20.1  2019  \n",
       "3          14.0        15.9  12.6  2020  \n",
       "4          13.2        16.1  15.6  2021  "
      ]
     },
     "execution_count": 89,
     "metadata": {},
     "output_type": "execute_result"
    }
   ],
   "source": [
    "# Joined Tables In One DataFrame\n",
    "joined_df"
   ]
  },
  {
   "cell_type": "code",
   "execution_count": 96,
   "id": "934009fd-38dd-426f-8d83-56ce642b7660",
   "metadata": {},
   "outputs": [
    {
     "data": {
      "text/html": [
       "<div>\n",
       "<style scoped>\n",
       "    .dataframe tbody tr th:only-of-type {\n",
       "        vertical-align: middle;\n",
       "    }\n",
       "\n",
       "    .dataframe tbody tr th {\n",
       "        vertical-align: top;\n",
       "    }\n",
       "\n",
       "    .dataframe thead th {\n",
       "        text-align: right;\n",
       "    }\n",
       "</style>\n",
       "<table border=\"1\" class=\"dataframe\">\n",
       "  <thead>\n",
       "    <tr style=\"text-align: right;\">\n",
       "      <th></th>\n",
       "      <th>Year</th>\n",
       "      <th>Freelancers_in_millions</th>\n",
       "      <th>Predicted</th>\n",
       "      <th>Collected</th>\n",
       "      <th>Growth</th>\n",
       "      <th>Listings</th>\n",
       "      <th>accuracy</th>\n",
       "      <th>Asian</th>\n",
       "      <th>Indian</th>\n",
       "      <th>Pakistani_Bangladeshi</th>\n",
       "      <th>other_Asian</th>\n",
       "      <th>Black</th>\n",
       "      <th>Mixed</th>\n",
       "      <th>White</th>\n",
       "      <th>British_White</th>\n",
       "      <th>Other_White</th>\n",
       "      <th>Other</th>\n",
       "      <th>Year</th>\n",
       "    </tr>\n",
       "  </thead>\n",
       "  <tbody>\n",
       "    <tr>\n",
       "      <th>0</th>\n",
       "      <td>2017</td>\n",
       "      <td>57.3</td>\n",
       "      <td>0</td>\n",
       "      <td>1</td>\n",
       "      <td>1.04</td>\n",
       "      <td>2174.0</td>\n",
       "      <td>Estimated</td>\n",
       "      <td>17.1</td>\n",
       "      <td>12.8</td>\n",
       "      <td>24.1</td>\n",
       "      <td>15.2</td>\n",
       "      <td>12.3</td>\n",
       "      <td>13.7</td>\n",
       "      <td>15.1</td>\n",
       "      <td>14.8</td>\n",
       "      <td>17.6</td>\n",
       "      <td>17.2</td>\n",
       "      <td>2017</td>\n",
       "    </tr>\n",
       "    <tr>\n",
       "      <th>1</th>\n",
       "      <td>2018</td>\n",
       "      <td>59.7</td>\n",
       "      <td>0</td>\n",
       "      <td>1</td>\n",
       "      <td>1.04</td>\n",
       "      <td>2261.0</td>\n",
       "      <td>Estimated</td>\n",
       "      <td>15.8</td>\n",
       "      <td>13.2</td>\n",
       "      <td>20.4</td>\n",
       "      <td>13.9</td>\n",
       "      <td>11.2</td>\n",
       "      <td>11.4</td>\n",
       "      <td>15.1</td>\n",
       "      <td>14.9</td>\n",
       "      <td>17.2</td>\n",
       "      <td>19.0</td>\n",
       "      <td>2018</td>\n",
       "    </tr>\n",
       "    <tr>\n",
       "      <th>2</th>\n",
       "      <td>2019</td>\n",
       "      <td>62.2</td>\n",
       "      <td>0</td>\n",
       "      <td>1</td>\n",
       "      <td>1.04</td>\n",
       "      <td>2351.0</td>\n",
       "      <td>Estimated</td>\n",
       "      <td>17.5</td>\n",
       "      <td>14.7</td>\n",
       "      <td>23.2</td>\n",
       "      <td>14.6</td>\n",
       "      <td>11.2</td>\n",
       "      <td>14.0</td>\n",
       "      <td>15.2</td>\n",
       "      <td>14.9</td>\n",
       "      <td>17.5</td>\n",
       "      <td>20.1</td>\n",
       "      <td>2019</td>\n",
       "    </tr>\n",
       "    <tr>\n",
       "      <th>3</th>\n",
       "      <td>2020</td>\n",
       "      <td>64.8</td>\n",
       "      <td>0</td>\n",
       "      <td>1</td>\n",
       "      <td>1.04</td>\n",
       "      <td>2445.0</td>\n",
       "      <td>Estimated</td>\n",
       "      <td>14.7</td>\n",
       "      <td>12.1</td>\n",
       "      <td>19.3</td>\n",
       "      <td>14.1</td>\n",
       "      <td>10.9</td>\n",
       "      <td>13.2</td>\n",
       "      <td>14.1</td>\n",
       "      <td>14.0</td>\n",
       "      <td>15.9</td>\n",
       "      <td>12.6</td>\n",
       "      <td>2020</td>\n",
       "    </tr>\n",
       "    <tr>\n",
       "      <th>4</th>\n",
       "      <td>2021</td>\n",
       "      <td>67.4</td>\n",
       "      <td>0</td>\n",
       "      <td>1</td>\n",
       "      <td>1.04</td>\n",
       "      <td>2543.0</td>\n",
       "      <td>Estimated</td>\n",
       "      <td>13.3</td>\n",
       "      <td>11.4</td>\n",
       "      <td>16.2</td>\n",
       "      <td>13.2</td>\n",
       "      <td>9.8</td>\n",
       "      <td>12.3</td>\n",
       "      <td>13.4</td>\n",
       "      <td>13.2</td>\n",
       "      <td>16.1</td>\n",
       "      <td>15.6</td>\n",
       "      <td>2021</td>\n",
       "    </tr>\n",
       "  </tbody>\n",
       "</table>\n",
       "</div>"
      ],
      "text/plain": [
       "   Year Freelancers_in_millions Predicted Collected Growth Listings  \\\n",
       "0  2017                    57.3         0         1   1.04   2174.0   \n",
       "1  2018                    59.7         0         1   1.04   2261.0   \n",
       "2  2019                    62.2         0         1   1.04   2351.0   \n",
       "3  2020                    64.8         0         1   1.04   2445.0   \n",
       "4  2021                    67.4         0         1   1.04   2543.0   \n",
       "\n",
       "    accuracy Asian Indian Pakistani_Bangladeshi other_Asian Black Mixed White  \\\n",
       "0  Estimated  17.1   12.8                  24.1        15.2  12.3  13.7  15.1   \n",
       "1  Estimated  15.8   13.2                  20.4        13.9  11.2  11.4  15.1   \n",
       "2  Estimated  17.5   14.7                  23.2        14.6  11.2  14.0  15.2   \n",
       "3  Estimated  14.7   12.1                  19.3        14.1  10.9  13.2  14.1   \n",
       "4  Estimated  13.3   11.4                  16.2        13.2   9.8  12.3  13.4   \n",
       "\n",
       "  British_White Other_White Other  Year  \n",
       "0          14.8        17.6  17.2  2017  \n",
       "1          14.9        17.2  19.0  2018  \n",
       "2          14.9        17.5  20.1  2019  \n",
       "3          14.0        15.9  12.6  2020  \n",
       "4          13.2        16.1  15.6  2021  "
      ]
     },
     "execution_count": 96,
     "metadata": {},
     "output_type": "execute_result"
    }
   ],
   "source": [
    "joined_df.T.drop_duplicates().T"
   ]
  },
  {
   "cell_type": "code",
   "execution_count": 105,
   "id": "c379030f-da16-4a12-9f90-192fb010005a",
   "metadata": {},
   "outputs": [
    {
     "data": {
      "text/html": [
       "<div>\n",
       "<style scoped>\n",
       "    .dataframe tbody tr th:only-of-type {\n",
       "        vertical-align: middle;\n",
       "    }\n",
       "\n",
       "    .dataframe tbody tr th {\n",
       "        vertical-align: top;\n",
       "    }\n",
       "\n",
       "    .dataframe thead th {\n",
       "        text-align: right;\n",
       "    }\n",
       "</style>\n",
       "<table border=\"1\" class=\"dataframe\">\n",
       "  <thead>\n",
       "    <tr style=\"text-align: right;\">\n",
       "      <th></th>\n",
       "      <th>Freelancers_in_millions</th>\n",
       "      <th>Predicted</th>\n",
       "      <th>Collected</th>\n",
       "      <th>Growth</th>\n",
       "      <th>Listings</th>\n",
       "      <th>accuracy</th>\n",
       "      <th>Asian</th>\n",
       "      <th>Indian</th>\n",
       "      <th>Pakistani_Bangladeshi</th>\n",
       "      <th>other_Asian</th>\n",
       "      <th>Black</th>\n",
       "      <th>Mixed</th>\n",
       "      <th>White</th>\n",
       "      <th>British_White</th>\n",
       "      <th>Other_White</th>\n",
       "      <th>Other</th>\n",
       "      <th>Years</th>\n",
       "    </tr>\n",
       "  </thead>\n",
       "  <tbody>\n",
       "    <tr>\n",
       "      <th>0</th>\n",
       "      <td>57.3</td>\n",
       "      <td>0</td>\n",
       "      <td>1</td>\n",
       "      <td>1.04</td>\n",
       "      <td>2174.0</td>\n",
       "      <td>Estimated</td>\n",
       "      <td>17.1</td>\n",
       "      <td>12.8</td>\n",
       "      <td>24.1</td>\n",
       "      <td>15.2</td>\n",
       "      <td>12.3</td>\n",
       "      <td>13.7</td>\n",
       "      <td>15.1</td>\n",
       "      <td>14.8</td>\n",
       "      <td>17.6</td>\n",
       "      <td>17.2</td>\n",
       "      <td>2017</td>\n",
       "    </tr>\n",
       "    <tr>\n",
       "      <th>1</th>\n",
       "      <td>59.7</td>\n",
       "      <td>0</td>\n",
       "      <td>1</td>\n",
       "      <td>1.04</td>\n",
       "      <td>2261.0</td>\n",
       "      <td>Estimated</td>\n",
       "      <td>15.8</td>\n",
       "      <td>13.2</td>\n",
       "      <td>20.4</td>\n",
       "      <td>13.9</td>\n",
       "      <td>11.2</td>\n",
       "      <td>11.4</td>\n",
       "      <td>15.1</td>\n",
       "      <td>14.9</td>\n",
       "      <td>17.2</td>\n",
       "      <td>19.0</td>\n",
       "      <td>2018</td>\n",
       "    </tr>\n",
       "    <tr>\n",
       "      <th>2</th>\n",
       "      <td>62.2</td>\n",
       "      <td>0</td>\n",
       "      <td>1</td>\n",
       "      <td>1.04</td>\n",
       "      <td>2351.0</td>\n",
       "      <td>Estimated</td>\n",
       "      <td>17.5</td>\n",
       "      <td>14.7</td>\n",
       "      <td>23.2</td>\n",
       "      <td>14.6</td>\n",
       "      <td>11.2</td>\n",
       "      <td>14.0</td>\n",
       "      <td>15.2</td>\n",
       "      <td>14.9</td>\n",
       "      <td>17.5</td>\n",
       "      <td>20.1</td>\n",
       "      <td>2019</td>\n",
       "    </tr>\n",
       "    <tr>\n",
       "      <th>3</th>\n",
       "      <td>64.8</td>\n",
       "      <td>0</td>\n",
       "      <td>1</td>\n",
       "      <td>1.04</td>\n",
       "      <td>2445.0</td>\n",
       "      <td>Estimated</td>\n",
       "      <td>14.7</td>\n",
       "      <td>12.1</td>\n",
       "      <td>19.3</td>\n",
       "      <td>14.1</td>\n",
       "      <td>10.9</td>\n",
       "      <td>13.2</td>\n",
       "      <td>14.1</td>\n",
       "      <td>14.0</td>\n",
       "      <td>15.9</td>\n",
       "      <td>12.6</td>\n",
       "      <td>2020</td>\n",
       "    </tr>\n",
       "    <tr>\n",
       "      <th>4</th>\n",
       "      <td>67.4</td>\n",
       "      <td>0</td>\n",
       "      <td>1</td>\n",
       "      <td>1.04</td>\n",
       "      <td>2543.0</td>\n",
       "      <td>Estimated</td>\n",
       "      <td>13.3</td>\n",
       "      <td>11.4</td>\n",
       "      <td>16.2</td>\n",
       "      <td>13.2</td>\n",
       "      <td>9.8</td>\n",
       "      <td>12.3</td>\n",
       "      <td>13.4</td>\n",
       "      <td>13.2</td>\n",
       "      <td>16.1</td>\n",
       "      <td>15.6</td>\n",
       "      <td>2021</td>\n",
       "    </tr>\n",
       "  </tbody>\n",
       "</table>\n",
       "</div>"
      ],
      "text/plain": [
       "  Freelancers_in_millions Predicted Collected  Growth  Listings   accuracy  \\\n",
       "0                    57.3         0         1    1.04    2174.0  Estimated   \n",
       "1                    59.7         0         1    1.04    2261.0  Estimated   \n",
       "2                    62.2         0         1    1.04    2351.0  Estimated   \n",
       "3                    64.8         0         1    1.04    2445.0  Estimated   \n",
       "4                    67.4         0         1    1.04    2543.0  Estimated   \n",
       "\n",
       "  Asian Indian Pakistani_Bangladeshi other_Asian Black Mixed White  \\\n",
       "0  17.1   12.8                  24.1        15.2  12.3  13.7  15.1   \n",
       "1  15.8   13.2                  20.4        13.9  11.2  11.4  15.1   \n",
       "2  17.5   14.7                  23.2        14.6  11.2  14.0  15.2   \n",
       "3  14.7   12.1                  19.3        14.1  10.9  13.2  14.1   \n",
       "4  13.3   11.4                  16.2        13.2   9.8  12.3  13.4   \n",
       "\n",
       "  British_White Other_White Other  Years  \n",
       "0          14.8        17.6  17.2   2017  \n",
       "1          14.9        17.2  19.0   2018  \n",
       "2          14.9        17.5  20.1   2019  \n",
       "3          14.0        15.9  12.6   2020  \n",
       "4          13.2        16.1  15.6   2021  "
      ]
     },
     "execution_count": 105,
     "metadata": {},
     "output_type": "execute_result"
    }
   ],
   "source": [
    "joined_df.drop(joined_df.columns[18], axis=1)"
   ]
  },
  {
   "cell_type": "code",
   "execution_count": 103,
   "id": "be4e0c79-393e-4110-861d-18e44b45f327",
   "metadata": {},
   "outputs": [],
   "source": [
    "Year = [2017,2018,2019,2020,2021]\n",
    "joined_df['Years'] = Year"
   ]
  },
  {
   "cell_type": "markdown",
   "id": "9d2848ca-de12-42c4-90ea-d2f1cf1a7def",
   "metadata": {},
   "source": [
    "## Visualizations"
   ]
  },
  {
   "cell_type": "code",
   "execution_count": 112,
   "id": "0ac86557-b269-4cc9-84b2-851392cd4df4",
   "metadata": {},
   "outputs": [
    {
     "data": {
      "image/png": "[encoded data removed]",
      "text/plain": [
       "<Figure size 640x480 with 1 Axes>"
      ]
     },
     "metadata": {},
     "output_type": "display_data"
    }
   ],
   "source": [
    "# Visual 1, Scatter plot \n",
    "import matplotlib.pyplot as plt\n",
    "import numpy as pd\n",
    "\n",
    "joined_df.plot.scatter(x = 'Listings', y = 'Freelancers_in_millions')\n",
    "\n",
    "plt.xlabel('Listings')\n",
    "# naming the y axis\n",
    "plt.ylabel('Freelancers (in Millions)')\n",
    "  \n",
    "# giving a title to my graph\n",
    "plt.title('Listings vs. Freelancers per year')\n",
    "  \n",
    "# function to show the plot\n",
    "plt.show()"
   ]
  },
  {
   "cell_type": "code",
   "execution_count": 114,
   "id": "f2d7a37e-2639-4119-acb3-aeef62d18dfc",
   "metadata": {},
   "outputs": [
    {
     "data": {
      "image/png": "[encoded data removed]",
      "text/plain": [
       "<Figure size 640x480 with 1 Axes>"
      ]
     },
     "metadata": {},
     "output_type": "display_data"
    }
   ],
   "source": [
    "# Visual 2, bar plot between the ethnicity with most freelancers and ethnicity with least freelancers\n",
    "\n",
    "PB = joined_df['Pakistani_Bangladeshi']\n",
    "black = joined_df['Black']\n",
    "\n",
    "plt.bar(PB, black)\n",
    " \n",
    "plt.xlabel(\"Black Freelancers\")\n",
    "plt.ylabel(\"Pakistani/Bangladeshi Freelancers\")\n",
    "plt.title(\"No. of Black vs. Pakistani/Bangladeshi Freelancers\")\n",
    "plt.show()"
   ]
  },
  {
   "cell_type": "code",
   "execution_count": 116,
   "id": "a89a2917-6731-42ca-9175-ba8af9489f39",
   "metadata": {},
   "outputs": [
    {
     "data": {
      "image/png": "[encoded data removed]",
      "text/plain": [
       "<Figure size 640x480 with 2 Axes>"
      ]
     },
     "metadata": {},
     "output_type": "display_data"
    }
   ],
   "source": [
    "# Visual 3, Scatter plot demonstrating yearly changes between the freelancing population size for the smallest size ethnicity and largest population size ethnicty\n",
    "\n",
    "fig, ax = plt.subplots()\n",
    "ay = ax.twiny()\n",
    "\n",
    "ax.scatter(joined_df['Pakistani_Bangladeshi'], joined_df['Years'])\n",
    "ay.scatter(joined_df['Black'], joined_df['Years'], color='r')\n",
    "plt.xlabel(\"Percentage of Freelancers\")\n",
    "plt.ylabel(\"Year\")\n",
    "plt.title(\"No. of Black (RED) vs. Pakistani/Bangladeshi (BLUE) Freelancers per year\")\n",
    "plt.show()"
   ]
  },
  {
   "cell_type": "code",
   "execution_count": 124,
   "id": "3df2f5f8-4682-4cc4-ad03-b663145f8641",
   "metadata": {},
   "outputs": [
    {
     "data": {
      "image/png": "[encoded data removed]",
      "text/plain": [
       "<Figure size 640x480 with 1 Axes>"
      ]
     },
     "metadata": {},
     "output_type": "display_data"
    }
   ],
   "source": [
    "# Visual 4, boxplot to demonstrate growth over the years for the largest ethnic population in freelancing \n",
    "\n",
    "sns.barplot(x='Listings',y='Pakistani_Bangladeshi', data=joined_df,\n",
    "            hue='Years')\n",
    " \n",
    "plt.show()\n",
    "\n",
    "    "
   ]
  },
  {
   "cell_type": "code",
   "execution_count": 127,
   "id": "08a1e767-7ae7-4bcb-a1af-b706ff636d7c",
   "metadata": {},
   "outputs": [
    {
     "data": {
      "image/png": "[encoded data removed]",
      "text/plain": [
       "<Figure size 640x480 with 1 Axes>"
      ]
     },
     "metadata": {},
     "output_type": "display_data"
    }
   ],
   "source": [
    "# Visual 5, line graph \n",
    "# Scatter plot with day against tip\n",
    "plt.plot(joined_df['Pakistani_Bangladeshi'])\n",
    "plt.plot(joined_df['Other_White'])\n",
    " \n",
    "# Adding Title to the Plot\n",
    "plt.title(\"Pakistani/Bangladeshi Freelancers vs Other White Freelalncers (Most amount of Freelancers)\")\n",
    " \n",
    "# Setting the X and Y labels\n",
    "plt.xlabel('Percentage Growth')\n",
    "plt.ylabel('Percentage of freelancers')\n",
    " \n",
    "plt.show()"
   ]
  },
  {
   "cell_type": "markdown",
   "id": "d7348a64-61a2-4a32-9723-167752064769",
   "metadata": {},
   "source": [
    "## Conclusion"
   ]
  },
  {
   "cell_type": "markdown",
   "id": "240154c1-d1be-4278-a17a-e3b2eb650e95",
   "metadata": {},
   "source": []
  },
  {
   "cell_type": "markdown",
   "id": "f1c88f19-afc2-4ca0-a9a9-8fe7b1682a83",
   "metadata": {},
   "source": []
  }
 ],
 "metadata": {
  "kernelspec": {
   "display_name": "Python 3 (ipykernel)",
   "language": "python",
   "name": "python3"
  },
  "language_info": {
   "codemirror_mode": {
    "name": "ipython",
    "version": 3
   },
   "file_extension": ".py",
   "mimetype": "text/x-python",
   "name": "python",
   "nbconvert_exporter": "python",
   "pygments_lexer": "ipython3",
   "version": "3.10.9"
  }
 },
 "nbformat": 4,
 "nbformat_minor": 5
}
