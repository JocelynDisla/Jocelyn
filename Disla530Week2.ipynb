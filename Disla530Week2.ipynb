{
 "cells": [
  {
   "cell_type": "code",
   "execution_count": 2,
   "id": "80e097b2-0acf-4b1e-9d5e-ea4611c60bc9",
   "metadata": {},
   "outputs": [
    {
     "name": "stdout",
     "output_type": "stream",
     "text": [
      "Hello world! My name is Jocelyn.\n"
     ]
    }
   ],
   "source": [
    "print('Hello world! My name is Jocelyn.')\n"
   ]
  },
  {
   "cell_type": "code",
   "execution_count": 23,
   "id": "735c1222-7ecf-4198-8105-94f251bb750e",
   "metadata": {},
   "outputs": [
    {
     "name": "stdout",
     "output_type": "stream",
     "text": [
      "5 + 7 is 12\n"
     ]
    }
   ],
   "source": [
    "Ans = 5+7  # Addition operation\n",
    "print('5 + 7 is', Ans)"
   ]
  },
  {
   "cell_type": "code",
   "execution_count": 24,
   "id": "1fca4fd9-731e-44f2-a9ea-0f71cec1da83",
   "metadata": {},
   "outputs": [
    {
     "name": "stdout",
     "output_type": "stream",
     "text": [
      "6 - 3 is 3\n"
     ]
    }
   ],
   "source": [
    "sub = 6-3  # Subtraction operation\n",
    "print('6 - 3 is', sub)"
   ]
  },
  {
   "cell_type": "code",
   "execution_count": 25,
   "id": "32e2c5a7-10bc-4e18-a979-f518bcacc5b6",
   "metadata": {
    "tags": []
   },
   "outputs": [
    {
     "name": "stdout",
     "output_type": "stream",
     "text": [
      "4 x 5 is 20\n"
     ]
    }
   ],
   "source": [
    "mult = 4*5  # Multiplication operation\n",
    "print('4 x 5 is', mult)"
   ]
  },
  {
   "cell_type": "code",
   "execution_count": 26,
   "id": "1c2e48ab-302d-4fbf-9112-5c09bd7dadc7",
   "metadata": {},
   "outputs": [
    {
     "name": "stdout",
     "output_type": "stream",
     "text": [
      "20/4 is 5.0\n"
     ]
    }
   ],
   "source": [
    "divi = 20/4  # division operation\n",
    "print('20/4 is', divi)"
   ]
  },
  {
   "cell_type": "code",
   "execution_count": 27,
   "id": "27910acc-29db-4b34-a934-bddd0c5c4f6c",
   "metadata": {},
   "outputs": [
    {
     "name": "stdout",
     "output_type": "stream",
     "text": [
      "This is my program\n"
     ]
    }
   ],
   "source": [
    "string1 = 'This is my '\n",
    "string2 = 'program'\n",
    "string3 = (string1 + string2)  # Concatenating two strings together\n",
    "print(string3)"
   ]
  },
  {
   "cell_type": "code",
   "execution_count": 28,
   "id": "fc328ec3-deec-4f4f-b253-70833a739e3f",
   "metadata": {},
   "outputs": [
    {
     "name": "stdout",
     "output_type": "stream",
     "text": [
      "My list contains: [12, 48, 'twenty-two', 56]\n",
      "New list contains: [12, 48, 'twenty-two', 56, 'fourty-five']\n"
     ]
    }
   ],
   "source": [
    "item_list = [12, 48, 'twenty-two', 56]  # list created with intergers and strings\n",
    "print('My list contains:', item_list)\n",
    "item_list.append('fourty-five')  # string added to the end of the list\n",
    "print('New list contains:', item_list)"
   ]
  },
  {
   "cell_type": "code",
   "execution_count": 29,
   "id": "8d42e8fb-36a4-43a6-90e8-1695f2d2eae0",
   "metadata": {},
   "outputs": [
    {
     "name": "stdout",
     "output_type": "stream",
     "text": [
      "My tuple contains: (56, 67, 78, 'fruits')\n"
     ]
    }
   ],
   "source": [
    "tuple1 = (56, 67, 78, 'fruits')  # tuple created with intergers and strings\n",
    "print('My tuple contains:', tuple1) "
   ]
  },
  {
   "cell_type": "code",
   "execution_count": null,
   "id": "58c77977-00d3-491d-98cc-6a4923d64b1d",
   "metadata": {},
   "outputs": [],
   "source": []
  }
 ],
 "metadata": {
  "kernelspec": {
   "display_name": "Python 3 (ipykernel)",
   "language": "python",
   "name": "python3"
  },
  "language_info": {
   "codemirror_mode": {
    "name": "ipython",
    "version": 3
   },
   "file_extension": ".py",
   "mimetype": "text/x-python",
   "name": "python",
   "nbconvert_exporter": "python",
   "pygments_lexer": "ipython3",
   "version": "3.10.9"
  }
 },
 "nbformat": 4,
 "nbformat_minor": 5
}
